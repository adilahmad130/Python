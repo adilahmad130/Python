{
 "cells": [
  {
   "cell_type": "code",
   "execution_count": 1,
   "id": "39c5c16e-b952-453a-a096-9985c36591a1",
   "metadata": {
    "tags": []
   },
   "outputs": [],
   "source": [
    "lst1=[]\n",
    "def lst_square(lst):\n",
    "    for i in lst:\n",
    "        lst1.append(i*i)\n",
    "    return lst1"
   ]
  },
  {
   "cell_type": "code",
   "execution_count": 2,
   "id": "197cb2de-ffa8-4537-96ce-c5b576a41db1",
   "metadata": {
    "tags": []
   },
   "outputs": [
    {
     "data": {
      "text/plain": [
       "[1, 4, 9, 16, 25, 36, 49]"
      ]
     },
     "execution_count": 2,
     "metadata": {},
     "output_type": "execute_result"
    }
   ],
   "source": [
    "lst_square([1,2,3,4,5,6,7])"
   ]
  },
  {
   "cell_type": "code",
   "execution_count": 6,
   "id": "3cce16ee-1906-4211-aedd-107473488778",
   "metadata": {
    "tags": []
   },
   "outputs": [],
   "source": [
    "l=[1,2,3,4,5,6,7]\n"
   ]
  },
  {
   "cell_type": "code",
   "execution_count": 7,
   "id": "9de025f6-26e3-41a2-8e9d-6cf601db3d1b",
   "metadata": {
    "tags": []
   },
   "outputs": [],
   "source": [
    "lst=[i*i for i in l]"
   ]
  },
  {
   "cell_type": "code",
   "execution_count": 8,
   "id": "61a34712-a7c3-4cad-8942-bbce183397ac",
   "metadata": {
    "tags": []
   },
   "outputs": [
    {
     "name": "stdout",
     "output_type": "stream",
     "text": [
      "[1, 4, 9, 16, 25, 36, 49]\n"
     ]
    }
   ],
   "source": [
    "print(lst)"
   ]
  },
  {
   "cell_type": "code",
   "execution_count": null,
   "id": "6eff83b0-8500-4517-a713-2caf4da6a8f7",
   "metadata": {},
   "outputs": [],
   "source": [
    "lst=[i*i for i in l if i%2==0]\n"
   ]
  },
  {
   "cell_type": "code",
   "execution_count": null,
   "id": "3ca4d6e8-ac80-4877-a6ad-81ab7e9b28fb",
   "metadata": {},
   "outputs": [],
   "source": []
  }
 ],
 "metadata": {
  "kernelspec": {
   "display_name": "Python 3 (ipykernel)",
   "language": "python",
   "name": "python3"
  },
  "language_info": {
   "codemirror_mode": {
    "name": "ipython",
    "version": 3
   },
   "file_extension": ".py",
   "mimetype": "text/x-python",
   "name": "python",
   "nbconvert_exporter": "python",
   "pygments_lexer": "ipython3",
   "version": "3.11.5"
  }
 },
 "nbformat": 4,
 "nbformat_minor": 5
}
