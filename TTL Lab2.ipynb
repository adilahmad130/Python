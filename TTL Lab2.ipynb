{
 "cells": [
  {
   "cell_type": "code",
   "execution_count": 1,
   "id": "55311c20-670a-4efc-92f8-c1b35fe916d0",
   "metadata": {
    "tags": []
   },
   "outputs": [
    {
     "name": "stdin",
     "output_type": "stream",
     "text": [
      "Guess the number (between 1 and 2000):  23\n"
     ]
    },
    {
     "name": "stdout",
     "output_type": "stream",
     "text": [
      "Too low! Try again.\n"
     ]
    },
    {
     "name": "stdin",
     "output_type": "stream",
     "text": [
      "Do you want to play again? (yes/no):  no\n"
     ]
    },
    {
     "name": "stdout",
     "output_type": "stream",
     "text": [
      "The correct number was 236. Thanks for playing our game!\n"
     ]
    }
   ],
   "source": [
    "import random\n",
    "\n",
    "def guess():\n",
    "    \n",
    "    secr = random.randint(1, 2000)\n",
    "\n",
    "    while True:\n",
    "        \n",
    "        guess = int(input(\"Guess the number (between 1 and 2000): \"))\n",
    " \n",
    "        if guess == secr:\n",
    "            print(\" Yes, You guessed the correct number.\")\n",
    "            break\n",
    "        elif guess < secr:\n",
    "            print(\"Too low! Please Try again.\")\n",
    "        else:\n",
    "            print(\"Too high! Please Try again.\")\n",
    "\n",
    "        \n",
    "        play = input(\"Do you want to play again? (yes/no): \").lower()\n",
    "        if play != 'yes':\n",
    "            print(f\"The correct number was {secr}. Thanks for playing our game!\")\n",
    "            break\n",
    "\n",
    "if __name__ == \"__main__\":\n",
    "    guess()\n"
   ]
  },
  {
   "cell_type": "code",
   "execution_count": null,
   "id": "38195b94-c300-48d7-9091-d337b5bda508",
   "metadata": {},
   "outputs": [],
   "source": []
  }
 ],
 "metadata": {
  "kernelspec": {
   "display_name": "Python 3 (ipykernel)",
   "language": "python",
   "name": "python3"
  },
  "language_info": {
   "codemirror_mode": {
    "name": "ipython",
    "version": 3
   },
   "file_extension": ".py",
   "mimetype": "text/x-python",
   "name": "python",
   "nbconvert_exporter": "python",
   "pygments_lexer": "ipython3",
   "version": "3.11.5"
  }
 },
 "nbformat": 4,
 "nbformat_minor": 5
}
