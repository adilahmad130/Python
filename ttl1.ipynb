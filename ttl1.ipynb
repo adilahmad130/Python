{
 "cells": [
  {
   "cell_type": "code",
   "execution_count": 1,
   "id": "5c648dd5-658d-4cd9-8d54-704e379de806",
   "metadata": {
    "tags": []
   },
   "outputs": [
    {
     "name": "stdin",
     "output_type": "stream",
     "text": [
      "Enter the first:  2\n",
      "Enter the number:  3\n"
     ]
    },
    {
     "name": "stdout",
     "output_type": "stream",
     "text": [
      "5\n"
     ]
    }
   ],
   "source": [
    "a=int(input(\"Enter the first: \"))\n",
    "b=int(input(\"Enter the number: \"))\n",
    "\n",
    "print(a+b)      "
   ]
  },
  {
   "cell_type": "code",
   "execution_count": 2,
   "id": "44df39b5-d449-4628-a02c-dac53863e3cc",
   "metadata": {
    "tags": []
   },
   "outputs": [
    {
     "name": "stdout",
     "output_type": "stream",
     "text": [
      "kiit\n"
     ]
    }
   ],
   "source": [
    "\n",
    "\n",
    "print(\"kiit\")"
   ]
  },
  {
   "cell_type": "code",
   "execution_count": 1,
   "id": "12c28d9f-f36d-4908-91ae-60bdceab09b3",
   "metadata": {},
   "outputs": [
    {
     "name": "stdout",
     "output_type": "stream",
     "text": [
      "Hello World\n"
     ]
    }
   ],
   "source": [
    "# 1. Hello World\n",
    "\n",
    "print(\"Hello World\")"
   ]
  },
  {
   "cell_type": "code",
   "execution_count": 3,
   "id": "cc0b8171-b2ee-4e6a-9e36-de3d5651117f",
   "metadata": {
    "tags": []
   },
   "outputs": [
    {
     "name": "stdin",
     "output_type": "stream",
     "text": [
      "Enter the First Number:  4\n",
      "Enter the First Number:  5\n"
     ]
    },
    {
     "name": "stdout",
     "output_type": "stream",
     "text": [
      "9\n"
     ]
    }
   ],
   "source": [
    "# 2. Variables and Input\n",
    "\n",
    "a=int(input(\"Enter the First Number: \"))\n",
    "b=int(input(\"Enter the First Number: \"))\n",
    "sum=a+b\n",
    "print(sum)"
   ]
  },
  {
   "cell_type": "code",
   "execution_count": 60,
   "id": "85b04b2e-52c2-49c4-90ed-f12375775533",
   "metadata": {
    "tags": []
   },
   "outputs": [
    {
     "name": "stdout",
     "output_type": "stream",
     "text": [
      "Enter radius7\n",
      "153.93804002589985\n"
     ]
    }
   ],
   "source": [
    "#3. Comments and Constraints\n",
    "\n",
    "import math \n",
    "r=float(input(\"Enter radius\"))\n",
    "areac=math.pi*r**2\n",
    "print(areac)"
   ]
  },
  {
   "cell_type": "code",
   "execution_count": 12,
   "id": "6c23fe62-c2e6-4ae2-9296-295dc065cacc",
   "metadata": {
    "scrolled": true,
    "tags": []
   },
   "outputs": [
    {
     "name": "stdin",
     "output_type": "stream",
     "text": [
      "enter the limit:  5\n"
     ]
    },
    {
     "name": "stdout",
     "output_type": "stream",
     "text": [
      "Sum =  15\n"
     ]
    }
   ],
   "source": [
    "#5.Arithmetic Operators and Expressions\n",
    "#sum of first n natural numbers (looping)\n",
    "n=int(input(\"enter the limit: \"))\n",
    "sum_n=0\n",
    "for i in range(0,n+1):\n",
    "    sum_n+=i\n",
    "\n",
    "print(\"Sum = \",sum_n)    "
   ]
  },
  {
   "cell_type": "code",
   "execution_count": 61,
   "id": "9fe5380a",
   "metadata": {},
   "outputs": [
    {
     "name": "stdout",
     "output_type": "stream",
     "text": [
      "enter number5\n",
      "enter number7.8\n",
      "<class 'int'>\n",
      "<class 'float'>\n",
      "<class 'float'>\n"
     ]
    }
   ],
   "source": [
    "#4.Data Types and Type Conversion \n",
    "a=int(input(\"enter number\"))\n",
    "b=float(input(\"enter number\"))\n",
    "sum=a+b\n",
    "print(type(a))\n",
    "print(type(b))\n",
    "print(type(sum))"
   ]
  },
  {
   "cell_type": "code",
   "execution_count": 13,
   "id": "97e2c3f8-6ec2-4694-8ea0-9cb3c1cbca60",
   "metadata": {
    "tags": []
   },
   "outputs": [
    {
     "data": {
      "text/plain": [
       "str"
      ]
     },
     "execution_count": 13,
     "metadata": {},
     "output_type": "execute_result"
    }
   ],
   "source": [
    "str1=str()\n",
    "type(str1)"
   ]
  },
  {
   "cell_type": "code",
   "execution_count": 14,
   "id": "75aaab81-877c-44aa-8fd2-d2fa21e851b8",
   "metadata": {
    "tags": []
   },
   "outputs": [
    {
     "name": "stdin",
     "output_type": "stream",
     "text": [
      "Enter the first string:  Adil\n",
      "Enter the first string:  Ahmad\n"
     ]
    },
    {
     "name": "stdout",
     "output_type": "stream",
     "text": [
      "AdilAhmad\n"
     ]
    }
   ],
   "source": [
    "#6.String Manipulation\n",
    "#concatenation\n",
    "\n",
    "str1=input(\"Enter the first string: \")\n",
    "str2=input(\"Enter the first string: \")\n",
    "\n",
    "str3=str1+str2\n",
    "print(str3)"
   ]
  },
  {
   "cell_type": "code",
   "execution_count": 63,
   "id": "44feb449",
   "metadata": {
    "scrolled": true
   },
   "outputs": [
    {
     "name": "stdout",
     "output_type": "stream",
     "text": [
      "adilidrisi\n"
     ]
    }
   ],
   "source": [
    "str=\"adilahmad\"\n",
    "x=str.replace('ahmad','idrisi')\n",
    "print(x)"
   ]
  },
  {
   "cell_type": "code",
   "execution_count": 66,
   "id": "fdc4c722",
   "metadata": {},
   "outputs": [
    {
     "name": "stdout",
     "output_type": "stream",
     "text": [
      "adil\n"
     ]
    }
   ],
   "source": [
    "print(str[0:4])"
   ]
  },
  {
   "cell_type": "code",
   "execution_count": 16,
   "id": "8123e978-923a-4011-b382-318f2504265a",
   "metadata": {
    "tags": []
   },
   "outputs": [
    {
     "data": {
      "text/plain": [
       "9"
      ]
     },
     "execution_count": 16,
     "metadata": {},
     "output_type": "execute_result"
    }
   ],
   "source": [
    "len(str3)"
   ]
  },
  {
   "cell_type": "code",
   "execution_count": 27,
   "id": "7ea78e22-e5b3-4292-aa68-b66c8141d461",
   "metadata": {
    "tags": []
   },
   "outputs": [
    {
     "name": "stdin",
     "output_type": "stream",
     "text": [
      "Enter the year:  2016\n"
     ]
    },
    {
     "name": "stdout",
     "output_type": "stream",
     "text": [
      "Leap Year: \n"
     ]
    }
   ],
   "source": [
    "#7.Logical Operators\n",
    "#leap year\n",
    "y=int(input(\"Enter the year: \"))\n",
    "if(y%400==0 and y%100==0):\n",
    "  print(\"Leap Year \")\n",
    "elif(y%4==0 and y%100!=0):\n",
    "    print(\"Leap Year \")\n",
    "else:\n",
    "  print(\"Not Leap Year\")"
   ]
  },
  {
   "cell_type": "code",
   "execution_count": 22,
   "id": "8a7ebd25-3c82-456b-88d2-08825a3130d8",
   "metadata": {
    "tags": []
   },
   "outputs": [
    {
     "name": "stdin",
     "output_type": "stream",
     "text": [
      "Enter the Number:  4\n"
     ]
    },
    {
     "name": "stdout",
     "output_type": "stream",
     "text": [
      "even\n"
     ]
    }
   ],
   "source": [
    "#9.Conditional Statements\n",
    "e=int(input(\"Enter the Number: \"))\n",
    "if(e%2==0):\n",
    "      print(\"even\")\n",
    "else:\n",
    "      print(\"odd\")"
   ]
  },
  {
   "cell_type": "code",
   "execution_count": 30,
   "id": "ac7ff902-9ef1-4732-869d-aea87be2dad9",
   "metadata": {
    "tags": []
   },
   "outputs": [
    {
     "data": {
      "text/plain": [
       "list"
      ]
     },
     "execution_count": 30,
     "metadata": {},
     "output_type": "execute_result"
    }
   ],
   "source": [
    "#8.List and Indexing\n",
    "\n",
    "List=list()\n",
    "type(List)"
   ]
  },
  {
   "cell_type": "code",
   "execution_count": 31,
   "id": "b2c08a7c-5a9f-462b-870c-5c4174e282ff",
   "metadata": {
    "tags": []
   },
   "outputs": [
    {
     "data": {
      "text/plain": [
       "[1, 2, 4]"
      ]
     },
     "execution_count": 31,
     "metadata": {},
     "output_type": "execute_result"
    }
   ],
   "source": [
    "l1=[1,2,4,5,6]\n",
    "l1[0:3]"
   ]
  },
  {
   "cell_type": "code",
   "execution_count": 32,
   "id": "2a7ff01a-3ff9-4f7b-9d8f-923e51694f8c",
   "metadata": {
    "tags": []
   },
   "outputs": [
    {
     "data": {
      "text/plain": [
       "5"
      ]
     },
     "execution_count": 32,
     "metadata": {},
     "output_type": "execute_result"
    }
   ],
   "source": [
    "len(l1)"
   ]
  },
  {
   "cell_type": "code",
   "execution_count": 34,
   "id": "6dfc932d-d93f-48a5-af07-2dbda7eb685e",
   "metadata": {
    "jupyter": {
     "source_hidden": true
    },
    "tags": []
   },
   "outputs": [
    {
     "name": "stdout",
     "output_type": "stream",
     "text": [
      "[1, 2, 4, 5, 6, 8, 8]\n"
     ]
    }
   ],
   "source": [
    "l1.append(8)\n",
    "print(l1)"
   ]
  },
  {
   "cell_type": "code",
   "execution_count": 37,
   "id": "58f75779-9ecb-472c-98e0-d24c9631b936",
   "metadata": {
    "tags": []
   },
   "outputs": [
    {
     "name": "stdout",
     "output_type": "stream",
     "text": [
      "[1, 2, 4, 5, 6]\n"
     ]
    }
   ],
   "source": [
    "l1.pop()\n",
    "print(l1)"
   ]
  },
  {
   "cell_type": "code",
   "execution_count": 42,
   "id": "26e0c2f5-0abb-4ae5-976a-956758a6fc81",
   "metadata": {
    "tags": []
   },
   "outputs": [
    {
     "name": "stdout",
     "output_type": "stream",
     "text": [
      "[1, 'adil', 2, 1, 4, 5, 6]\n"
     ]
    }
   ],
   "source": [
    "l1.insert(1,\"adil\")\n",
    "print(l1)"
   ]
  },
  {
   "cell_type": "code",
   "execution_count": 43,
   "id": "3f3b2f29-cf45-4a95-9ad1-b1089c2f3225",
   "metadata": {
    "tags": []
   },
   "outputs": [
    {
     "data": {
      "text/plain": [
       "list"
      ]
     },
     "execution_count": 43,
     "metadata": {},
     "output_type": "execute_result"
    }
   ],
   "source": [
    "type(l1)"
   ]
  },
  {
   "cell_type": "code",
   "execution_count": 51,
   "id": "14467789-f969-46fb-9c36-969c9e070f55",
   "metadata": {
    "tags": []
   },
   "outputs": [],
   "source": [
    "l1.remove('adil')"
   ]
  },
  {
   "cell_type": "code",
   "execution_count": null,
   "id": "7cfd104c-ca27-4d2f-9dc2-7fcaf38354a9",
   "metadata": {
    "tags": []
   },
   "outputs": [],
   "source": [
    "#sum of element of list \n",
    "i=len(l1)\n",
    "suml=0\n",
    "for i in l1 :\n",
    "   suml+=i\n",
    "print(suml)"
   ]
  },
  {
   "cell_type": "code",
   "execution_count": null,
   "id": "80e2bb40-802e-4600-b1b5-7d06ac906829",
   "metadata": {
    "tags": []
   },
   "outputs": [],
   "source": [
    "#sum of first n odd numbers \n",
    "\n",
    "n=int(input(\"enter the number: \"))\n",
    "sume=0\n",
    "while (i<=n):\n",
    "   if(i%2!=0):\n",
    "     sume+=i\n",
    "print(sume)"
   ]
  },
  {
   "cell_type": "code",
   "execution_count": 67,
   "id": "52e90b93-5b40-437d-b1b5-61ab7a054263",
   "metadata": {
    "tags": []
   },
   "outputs": [
    {
     "name": "stdout",
     "output_type": "stream",
     "text": [
      "1\n",
      "2\n",
      "3\n",
      "4\n",
      "5\n",
      "6\n",
      "7\n",
      "8\n",
      "9\n",
      "10\n"
     ]
    }
   ],
   "source": [
    "#10.looping\n",
    "i=0\n",
    "while (i<10):\n",
    "   i=i+1\n",
    "   print(i)"
   ]
  },
  {
   "cell_type": "code",
   "execution_count": null,
   "id": "8924c9ab-8f80-467f-aff4-63faf2068b62",
   "metadata": {},
   "outputs": [],
   "source": []
  },
  {
   "cell_type": "code",
   "execution_count": null,
   "id": "4dd3d942",
   "metadata": {},
   "outputs": [],
   "source": []
  },
  {
   "cell_type": "code",
   "execution_count": null,
   "id": "ece06103",
   "metadata": {},
   "outputs": [],
   "source": []
  },
  {
   "cell_type": "code",
   "execution_count": null,
   "id": "44e90665",
   "metadata": {},
   "outputs": [],
   "source": []
  },
  {
   "cell_type": "code",
   "execution_count": null,
   "id": "ffebd984",
   "metadata": {},
   "outputs": [],
   "source": []
  },
  {
   "cell_type": "code",
   "execution_count": 55,
   "id": "6624e5f2",
   "metadata": {},
   "outputs": [
    {
     "name": "stdout",
     "output_type": "stream",
     "text": [
      "enter number5\n",
      "enter number7.6\n",
      "<class 'int'>\n",
      "<class 'float'>\n",
      "<class 'float'>\n"
     ]
    }
   ],
   "source": []
  },
  {
   "cell_type": "code",
   "execution_count": 62,
   "id": "06853ce7",
   "metadata": {},
   "outputs": [
    {
     "name": "stdout",
     "output_type": "stream",
     "text": [
      "adilidrisi\n"
     ]
    }
   ],
   "source": []
  },
  {
   "cell_type": "code",
   "execution_count": null,
   "id": "2738fe86",
   "metadata": {},
   "outputs": [],
   "source": []
  }
 ],
 "metadata": {
  "kernelspec": {
   "display_name": "Python 3 (ipykernel)",
   "language": "python",
   "name": "python3"
  },
  "language_info": {
   "codemirror_mode": {
    "name": "ipython",
    "version": 3
   },
   "file_extension": ".py",
   "mimetype": "text/x-python",
   "name": "python",
   "nbconvert_exporter": "python",
   "pygments_lexer": "ipython3",
   "version": "3.11.5"
  }
 },
 "nbformat": 4,
 "nbformat_minor": 5
}
