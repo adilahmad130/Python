{
 "cells": [
  {
   "cell_type": "code",
   "execution_count": 2,
   "id": "b9c1828c-f08f-4c02-b321-82882350f7aa",
   "metadata": {
    "tags": []
   },
   "outputs": [
    {
     "name": "stdout",
     "output_type": "stream",
     "text": [
      "Number is Even \n"
     ]
    }
   ],
   "source": [
    "num = 24\n",
    "if num%2 == 0 :\n",
    "    print(\"Number is Even \")\n",
    "else :\n",
    "    print(\"Number is Odd\")"
   ]
  },
  {
   "cell_type": "code",
   "execution_count": 4,
   "id": "16fff960-0795-4905-a36f-abb3ce238798",
   "metadata": {
    "tags": []
   },
   "outputs": [],
   "source": [
    "def even_odd(num):\n",
    "    if num%2 == 0 :\n",
    "        print(\"Number is Even \")\n",
    "    else :\n",
    "        print(\"Number is Odd\")\n",
    "    \n",
    "   "
   ]
  },
  {
   "cell_type": "code",
   "execution_count": 5,
   "id": "7fb4fc89-625b-4f44-8c07-d9e7eff86e84",
   "metadata": {
    "tags": []
   },
   "outputs": [
    {
     "name": "stdout",
     "output_type": "stream",
     "text": [
      "Number is Even \n"
     ]
    }
   ],
   "source": [
    "even_odd(24)"
   ]
  },
  {
   "cell_type": "code",
   "execution_count": 6,
   "id": "02cd8fdf-0469-4fb1-8278-3447ab4360ac",
   "metadata": {
    "tags": []
   },
   "outputs": [
    {
     "name": "stdout",
     "output_type": "stream",
     "text": [
      "Number is Even \n"
     ]
    }
   ],
   "source": [
    "even_odd(30)"
   ]
  },
  {
   "cell_type": "code",
   "execution_count": 7,
   "id": "4626d374-3bc1-45c4-8675-a800d06ced84",
   "metadata": {
    "tags": []
   },
   "outputs": [
    {
     "name": "stdout",
     "output_type": "stream",
     "text": [
      "Number is Odd\n"
     ]
    }
   ],
   "source": [
    "even_odd(21)"
   ]
  },
  {
   "cell_type": "code",
   "execution_count": 10,
   "id": "a2d8aae7-ef77-469d-80b4-54ec773fb09b",
   "metadata": {
    "tags": []
   },
   "outputs": [
    {
     "ename": "TypeError",
     "evalue": "even_odd() missing 1 required positional argument: 'num'",
     "output_type": "error",
     "traceback": [
      "\u001b[1;31m---------------------------------------------------------------------------\u001b[0m",
      "\u001b[1;31mTypeError\u001b[0m                                 Traceback (most recent call last)",
      "Cell \u001b[1;32mIn[10], line 1\u001b[0m\n\u001b[1;32m----> 1\u001b[0m even_odd()\n",
      "\u001b[1;31mTypeError\u001b[0m: even_odd() missing 1 required positional argument: 'num'"
     ]
    }
   ],
   "source": [
    "even_odd()\n"
   ]
  },
  {
   "cell_type": "code",
   "execution_count": 13,
   "id": "181bf2b7-1561-4d9a-b208-a03e284cd248",
   "metadata": {
    "tags": []
   },
   "outputs": [],
   "source": [
    "def hello_world():\n",
    "    return \"Hello Welcome\""
   ]
  },
  {
   "cell_type": "code",
   "execution_count": 14,
   "id": "818c5b68-53d4-47dd-ab9a-716304cbb24b",
   "metadata": {
    "tags": []
   },
   "outputs": [
    {
     "data": {
      "text/plain": [
       "'Hello Welcome'"
      ]
     },
     "execution_count": 14,
     "metadata": {},
     "output_type": "execute_result"
    }
   ],
   "source": [
    "hello_world()"
   ]
  },
  {
   "cell_type": "code",
   "execution_count": 15,
   "id": "b674a78d-c019-46da-8995-e84f1b4a93cb",
   "metadata": {
    "tags": []
   },
   "outputs": [],
   "source": [
    "val=hello_world()"
   ]
  },
  {
   "cell_type": "code",
   "execution_count": 16,
   "id": "6d79ef93-1377-493e-b5de-02878517e335",
   "metadata": {
    "tags": []
   },
   "outputs": [
    {
     "name": "stdout",
     "output_type": "stream",
     "text": [
      "Hello Welcome\n"
     ]
    }
   ],
   "source": [
    "print(val)"
   ]
  },
  {
   "cell_type": "code",
   "execution_count": 18,
   "id": "60cefb0a-a738-4c36-a516-e1d5588b5175",
   "metadata": {
    "tags": []
   },
   "outputs": [],
   "source": [
    "def hello_world():\n",
    "    print(\"Hello Welcome\")"
   ]
  },
  {
   "cell_type": "code",
   "execution_count": 19,
   "id": "7a5158df-144f-4054-9786-24eed8995d23",
   "metadata": {
    "tags": []
   },
   "outputs": [
    {
     "name": "stdout",
     "output_type": "stream",
     "text": [
      "Hello Welcome\n"
     ]
    }
   ],
   "source": [
    "hello_world()"
   ]
  },
  {
   "cell_type": "code",
   "execution_count": 20,
   "id": "aa8c51ec-a323-49cf-b38c-c6069b5cce13",
   "metadata": {
    "tags": []
   },
   "outputs": [
    {
     "name": "stdout",
     "output_type": "stream",
     "text": [
      "Hello Welcome\n"
     ]
    }
   ],
   "source": [
    "val=hello_world()"
   ]
  },
  {
   "cell_type": "code",
   "execution_count": 21,
   "id": "08197579-428d-4a1f-8c26-7f1d3b2846fc",
   "metadata": {
    "tags": []
   },
   "outputs": [
    {
     "name": "stdout",
     "output_type": "stream",
     "text": [
      "None\n"
     ]
    }
   ],
   "source": [
    "print(val)"
   ]
  },
  {
   "cell_type": "code",
   "execution_count": 22,
   "id": "6b6c7da2-e629-4778-b539-7d48b622db67",
   "metadata": {
    "tags": []
   },
   "outputs": [],
   "source": [
    "def add_number(num1,num2):\n",
    "    return num1+num2"
   ]
  },
  {
   "cell_type": "code",
   "execution_count": 23,
   "id": "06f727bc-c7f1-445f-9af2-8a88e56f2001",
   "metadata": {
    "tags": []
   },
   "outputs": [],
   "source": [
    "val=add_number(24,48)"
   ]
  },
  {
   "cell_type": "code",
   "execution_count": 24,
   "id": "3f1344fd-9cf6-4f25-be39-4c0bb4d6fe7a",
   "metadata": {
    "tags": []
   },
   "outputs": [
    {
     "data": {
      "text/plain": [
       "72"
      ]
     },
     "execution_count": 24,
     "metadata": {},
     "output_type": "execute_result"
    }
   ],
   "source": [
    "val"
   ]
  },
  {
   "cell_type": "code",
   "execution_count": 25,
   "id": "5037aaf8-2d24-4d2a-933d-815605d2958e",
   "metadata": {
    "tags": []
   },
   "outputs": [],
   "source": [
    "#positional argument\n",
    "#keyword argument\n",
    "\n",
    "def hello(name,age=29):\n",
    "    print(\"My name is {} and age is {}\".format(name,age))"
   ]
  },
  {
   "cell_type": "code",
   "execution_count": 26,
   "id": "811d468c-b004-40c8-8fcb-fac2920aeb9a",
   "metadata": {
    "tags": []
   },
   "outputs": [
    {
     "data": {
      "text/plain": [
       "<function __main__.hello(name, age=29)>"
      ]
     },
     "execution_count": 26,
     "metadata": {},
     "output_type": "execute_result"
    }
   ],
   "source": [
    "hello"
   ]
  },
  {
   "cell_type": "code",
   "execution_count": 27,
   "id": "76438eab-021f-4273-9872-18ab4b453373",
   "metadata": {
    "tags": []
   },
   "outputs": [
    {
     "ename": "TypeError",
     "evalue": "hello() missing 1 required positional argument: 'name'",
     "output_type": "error",
     "traceback": [
      "\u001b[1;31m---------------------------------------------------------------------------\u001b[0m",
      "\u001b[1;31mTypeError\u001b[0m                                 Traceback (most recent call last)",
      "Cell \u001b[1;32mIn[27], line 1\u001b[0m\n\u001b[1;32m----> 1\u001b[0m hello()\n",
      "\u001b[1;31mTypeError\u001b[0m: hello() missing 1 required positional argument: 'name'"
     ]
    }
   ],
   "source": [
    "hello()"
   ]
  },
  {
   "cell_type": "code",
   "execution_count": 28,
   "id": "6d2d61cd-2a5e-479c-bebf-e03eb5431713",
   "metadata": {
    "tags": []
   },
   "outputs": [
    {
     "name": "stdout",
     "output_type": "stream",
     "text": [
      "My name is Krish and age is 29\n"
     ]
    }
   ],
   "source": [
    "hello(\"Krish\")"
   ]
  },
  {
   "cell_type": "code",
   "execution_count": 30,
   "id": "832d529f-d172-4b22-aa92-f8846bcf3566",
   "metadata": {
    "tags": []
   },
   "outputs": [],
   "source": [
    "def hello(*args,**kwargs):\n",
    "    print(args)\n",
    "    print(kwargs)"
   ]
  },
  {
   "cell_type": "code",
   "execution_count": 31,
   "id": "42b73305-360c-49e3-b625-8e3de2356672",
   "metadata": {
    "tags": []
   },
   "outputs": [
    {
     "name": "stdout",
     "output_type": "stream",
     "text": [
      "('Krish', 'Naik')\n",
      "{'age': 29, 'dob': 1990}\n"
     ]
    }
   ],
   "source": [
    "hello(\"Krish\",\"Naik\",age=29,dob=1990)"
   ]
  },
  {
   "cell_type": "code",
   "execution_count": 32,
   "id": "803c1493-eba6-4056-a76b-bc8263130c73",
   "metadata": {
    "tags": []
   },
   "outputs": [],
   "source": [
    "list=['Krish','Naik']\n",
    "dict_args={'age':29,'dob':1990}"
   ]
  },
  {
   "cell_type": "code",
   "execution_count": 33,
   "id": "adada2b5-1970-451f-91de-56d178a6a6bb",
   "metadata": {
    "tags": []
   },
   "outputs": [
    {
     "name": "stdout",
     "output_type": "stream",
     "text": [
      "('Krish', 'Naik')\n",
      "{'age': 29, 'dob': 1990}\n"
     ]
    }
   ],
   "source": [
    "hello(*list,**dict_args)"
   ]
  },
  {
   "cell_type": "code",
   "execution_count": 34,
   "id": "b2236611-6fd9-4656-afeb-0edc13a61edf",
   "metadata": {
    "tags": []
   },
   "outputs": [],
   "source": [
    "list = [1,2,3,4,5,6,7]\n"
   ]
  },
  {
   "cell_type": "code",
   "execution_count": 36,
   "id": "ab2e662a-6080-4308-a845-23d6eaaee572",
   "metadata": {
    "tags": []
   },
   "outputs": [],
   "source": [
    "def even_odd_sum(list):\n",
    "    even_sum = 0\n",
    "    odd_sum = 0\n",
    "    for i in list:\n",
    "        if i%2 == 0:\n",
    "            even_sum=even_sum+i\n",
    "        else:\n",
    "           odd_sum=odd_sum+i\n",
    "    return even_sum,odd_sum        "
   ]
  },
  {
   "cell_type": "code",
   "execution_count": 37,
   "id": "e79c926d-6ce8-4a3d-92e3-290d0183f22e",
   "metadata": {
    "tags": []
   },
   "outputs": [
    {
     "data": {
      "text/plain": [
       "(12, 16)"
      ]
     },
     "execution_count": 37,
     "metadata": {},
     "output_type": "execute_result"
    }
   ],
   "source": [
    "even_odd_sum(list)"
   ]
  },
  {
   "cell_type": "code",
   "execution_count": null,
   "id": "dcfbc6ac-e6ab-4b16-a6f4-31e445ee59da",
   "metadata": {},
   "outputs": [],
   "source": []
  }
 ],
 "metadata": {
  "kernelspec": {
   "display_name": "Python 3 (ipykernel)",
   "language": "python",
   "name": "python3"
  },
  "language_info": {
   "codemirror_mode": {
    "name": "ipython",
    "version": 3
   },
   "file_extension": ".py",
   "mimetype": "text/x-python",
   "name": "python",
   "nbconvert_exporter": "python",
   "pygments_lexer": "ipython3",
   "version": "3.11.5"
  }
 },
 "nbformat": 4,
 "nbformat_minor": 5
}
