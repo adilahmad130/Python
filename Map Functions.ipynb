{
 "cells": [
  {
   "cell_type": "code",
   "execution_count": 2,
   "id": "4d67c005-3a15-4c95-b3e0-9222dd75840e",
   "metadata": {
    "tags": []
   },
   "outputs": [],
   "source": [
    "def even_or_odd(num):\n",
    "    if num%2==0:\n",
    "        return \"The {} is Even\".format(num)\n",
    "    else:\n",
    "        return \"The {} is Odd\".format(num)"
   ]
  },
  {
   "cell_type": "code",
   "execution_count": 10,
   "id": "327f90b1-047b-4e70-8678-8afe14f13af1",
   "metadata": {
    "tags": []
   },
   "outputs": [
    {
     "data": {
      "text/plain": [
       "'The 12 is Even'"
      ]
     },
     "execution_count": 10,
     "metadata": {},
     "output_type": "execute_result"
    }
   ],
   "source": [
    "even_or_odd(12)"
   ]
  },
  {
   "cell_type": "code",
   "execution_count": 11,
   "id": "8401173a-98ea-46b2-9b69-e4097889e574",
   "metadata": {
    "tags": []
   },
   "outputs": [
    {
     "data": {
      "text/plain": [
       "'The 11 is Odd'"
      ]
     },
     "execution_count": 11,
     "metadata": {},
     "output_type": "execute_result"
    }
   ],
   "source": [
    "even_or_odd(11)"
   ]
  },
  {
   "cell_type": "code",
   "execution_count": 12,
   "id": "239f5eb4-61fb-4257-bf1c-b45e256280a1",
   "metadata": {
    "tags": []
   },
   "outputs": [],
   "source": [
    "L=[1,2,3,4,5,6,7,8,9,24,56,78]"
   ]
  },
  {
   "cell_type": "code",
   "execution_count": 8,
   "id": "5411ce10-a56e-42d0-b2d6-a2f2f651e660",
   "metadata": {
    "tags": []
   },
   "outputs": [
    {
     "data": {
      "text/plain": [
       "['The 1 is Odd',\n",
       " 'The 2 is Even',\n",
       " 'The 3 is Odd',\n",
       " 'The 4 is Even',\n",
       " 'The 5 is Odd',\n",
       " 'The 6 is Even',\n",
       " 'The 7 is Odd',\n",
       " 'The 8 is Even',\n",
       " 'The 9 is Odd',\n",
       " 'The 24 is Even',\n",
       " 'The 56 is Even',\n",
       " 'The 78 is Even']"
      ]
     },
     "execution_count": 8,
     "metadata": {},
     "output_type": "execute_result"
    }
   ],
   "source": [
    "list(map(even_or_odd,L))"
   ]
  },
  {
   "cell_type": "code",
   "execution_count": null,
   "id": "e643d092-83df-4828-b51c-957dc5c6e665",
   "metadata": {},
   "outputs": [],
   "source": []
  },
  {
   "cell_type": "code",
   "execution_count": null,
   "id": "55311485-a204-45e7-a26f-6421fab30c6b",
   "metadata": {},
   "outputs": [],
   "source": []
  },
  {
   "cell_type": "code",
   "execution_count": null,
   "id": "d49297c3-71fc-4f6e-ac0e-3be7444e34a1",
   "metadata": {},
   "outputs": [],
   "source": []
  }
 ],
 "metadata": {
  "kernelspec": {
   "display_name": "Python 3 (ipykernel)",
   "language": "python",
   "name": "python3"
  },
  "language_info": {
   "codemirror_mode": {
    "name": "ipython",
    "version": 3
   },
   "file_extension": ".py",
   "mimetype": "text/x-python",
   "name": "python",
   "nbconvert_exporter": "python",
   "pygments_lexer": "ipython3",
   "version": "3.11.5"
  }
 },
 "nbformat": 4,
 "nbformat_minor": 5
}
