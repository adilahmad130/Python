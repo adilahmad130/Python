{
 "cells": [
  {
   "cell_type": "code",
   "execution_count": 1,
   "id": "3c79ddb9-b082-40b5-af9e-1ab593eea71e",
   "metadata": {
    "tags": []
   },
   "outputs": [],
   "source": [
    "def even(num):\n",
    "    if num%2 == 0:\n",
    "        return True"
   ]
  },
  {
   "cell_type": "code",
   "execution_count": 2,
   "id": "68d57fee-ca5a-4b59-a39a-545c9a1c2341",
   "metadata": {
    "tags": []
   },
   "outputs": [],
   "source": [
    "L=[1,2,3,4,5,6,7,8,9,0]"
   ]
  },
  {
   "cell_type": "code",
   "execution_count": 3,
   "id": "c040db66-1255-4412-b09c-774118ade262",
   "metadata": {
    "tags": []
   },
   "outputs": [
    {
     "data": {
      "text/plain": [
       "[2, 4, 6, 8, 0]"
      ]
     },
     "execution_count": 3,
     "metadata": {},
     "output_type": "execute_result"
    }
   ],
   "source": [
    "list(filter(even,L))"
   ]
  },
  {
   "cell_type": "code",
   "execution_count": null,
   "id": "284728c2-d73f-47de-8be5-6beec273e575",
   "metadata": {},
   "outputs": [],
   "source": [
    "list(filter(lambda num:num%2==0,L"
   ]
  },
  {
   "cell_type": "code",
   "execution_count": null,
   "id": "4fc683fc-a096-4afb-b74c-9bc798e0c67a",
   "metadata": {},
   "outputs": [],
   "source": []
  },
  {
   "cell_type": "code",
   "execution_count": null,
   "id": "6318a073-6149-425a-87b1-746762f4e50c",
   "metadata": {},
   "outputs": [],
   "source": []
  }
 ],
 "metadata": {
  "kernelspec": {
   "display_name": "Python 3 (ipykernel)",
   "language": "python",
   "name": "python3"
  },
  "language_info": {
   "codemirror_mode": {
    "name": "ipython",
    "version": 3
   },
   "file_extension": ".py",
   "mimetype": "text/x-python",
   "name": "python",
   "nbconvert_exporter": "python",
   "pygments_lexer": "ipython3",
   "version": "3.11.5"
  }
 },
 "nbformat": 4,
 "nbformat_minor": 5
}
