{
 "cells": [
  {
   "cell_type": "code",
   "execution_count": 1,
   "id": "4a698fc0-9bb3-40fc-af46-4147c86a1b1f",
   "metadata": {
    "tags": []
   },
   "outputs": [
    {
     "name": "stdout",
     "output_type": "stream",
     "text": [
      "Hello Everyone\n"
     ]
    }
   ],
   "source": [
    "print(\"Hello Everyone\")"
   ]
  },
  {
   "cell_type": "code",
   "execution_count": 2,
   "id": "8eac3ee9-6125-4528-a9ad-1cef6f473cf8",
   "metadata": {
    "tags": []
   },
   "outputs": [],
   "source": [
    "strs=\"Hello \"\n"
   ]
  },
  {
   "cell_type": "code",
   "execution_count": 5,
   "id": "de12e123-4b16-4e1e-9645-2a4cac16a9ee",
   "metadata": {
    "tags": []
   },
   "outputs": [],
   "source": [
    "def greeting(name):\n",
    "    return \"Hello {}. to the community\".format(name)"
   ]
  },
  {
   "cell_type": "code",
   "execution_count": 6,
   "id": "4967e491-1e4c-4b3f-bf26-1c9b73e998ab",
   "metadata": {
    "tags": []
   },
   "outputs": [
    {
     "data": {
      "text/plain": [
       "'Hello Krish. to the community'"
      ]
     },
     "execution_count": 6,
     "metadata": {},
     "output_type": "execute_result"
    }
   ],
   "source": [
    "greeting(\"Krish\")"
   ]
  },
  {
   "cell_type": "code",
   "execution_count": 17,
   "id": "8a349930-dc70-4b84-88a2-f6c95f2979f4",
   "metadata": {
    "tags": []
   },
   "outputs": [],
   "source": [
    "def welcome_email(name,age):\n",
    "    return \"Welcome {}.Your age is {}\".format(name,age)"
   ]
  },
  {
   "cell_type": "code",
   "execution_count": 18,
   "id": "eaee48bd-e1eb-4d60-8565-9b74205051c0",
   "metadata": {
    "tags": []
   },
   "outputs": [
    {
     "data": {
      "text/plain": [
       "'Welcome Krish.Your age is 29'"
      ]
     },
     "execution_count": 18,
     "metadata": {},
     "output_type": "execute_result"
    }
   ],
   "source": [
    "welcome_email('Krish',29)"
   ]
  },
  {
   "cell_type": "code",
   "execution_count": 21,
   "id": "74a45efd-035a-4eba-aa9f-52390db51d04",
   "metadata": {
    "tags": []
   },
   "outputs": [],
   "source": [
    "def welcome_email(name,age):\n",
    "    return \"Welcome {name1}.Your age is {age1}\".format(name1=name,age1=age)"
   ]
  },
  {
   "cell_type": "code",
   "execution_count": 22,
   "id": "a1fdcf91-b440-403e-bff5-a73b0982f761",
   "metadata": {
    "tags": []
   },
   "outputs": [
    {
     "data": {
      "text/plain": [
       "'Welcome Krish.Your age is 29'"
      ]
     },
     "execution_count": 22,
     "metadata": {},
     "output_type": "execute_result"
    }
   ],
   "source": [
    " welcome_email('Krish',29)"
   ]
  },
  {
   "cell_type": "code",
   "execution_count": 23,
   "id": "61762d83-acc5-422e-b99e-592fa8506dbe",
   "metadata": {
    "tags": []
   },
   "outputs": [],
   "source": [
    "def welcome_email(name,age):\n",
    "    return \"Welcome {name1}.Your age is {age1}.{}\".format(name1=name,age1=age)"
   ]
  },
  {
   "cell_type": "code",
   "execution_count": 24,
   "id": "f522ed72-941a-4a2a-a04f-86238e9df8e9",
   "metadata": {
    "tags": []
   },
   "outputs": [
    {
     "ename": "IndexError",
     "evalue": "Replacement index 0 out of range for positional args tuple",
     "output_type": "error",
     "traceback": [
      "\u001b[1;31m---------------------------------------------------------------------------\u001b[0m",
      "\u001b[1;31mIndexError\u001b[0m                                Traceback (most recent call last)",
      "Cell \u001b[1;32mIn[24], line 1\u001b[0m\n\u001b[1;32m----> 1\u001b[0m welcome_email(\u001b[38;5;124m'\u001b[39m\u001b[38;5;124mKrish\u001b[39m\u001b[38;5;124m'\u001b[39m,\u001b[38;5;241m29\u001b[39m)\n",
      "Cell \u001b[1;32mIn[23], line 2\u001b[0m, in \u001b[0;36mwelcome_email\u001b[1;34m(name, age)\u001b[0m\n\u001b[0;32m      1\u001b[0m \u001b[38;5;28;01mdef\u001b[39;00m \u001b[38;5;21mwelcome_email\u001b[39m(name,age):\n\u001b[1;32m----> 2\u001b[0m     \u001b[38;5;28;01mreturn\u001b[39;00m \u001b[38;5;124m\"\u001b[39m\u001b[38;5;124mWelcome \u001b[39m\u001b[38;5;132;01m{name1}\u001b[39;00m\u001b[38;5;124m.Your age is \u001b[39m\u001b[38;5;132;01m{age1}\u001b[39;00m\u001b[38;5;124m.\u001b[39m\u001b[38;5;132;01m{}\u001b[39;00m\u001b[38;5;124m\"\u001b[39m\u001b[38;5;241m.\u001b[39mformat(name1\u001b[38;5;241m=\u001b[39mname,age1\u001b[38;5;241m=\u001b[39mage)\n",
      "\u001b[1;31mIndexError\u001b[0m: Replacement index 0 out of range for positional args tuple"
     ]
    }
   ],
   "source": [
    "welcome_email('Krish',29)"
   ]
  },
  {
   "cell_type": "code",
   "execution_count": null,
   "id": "6f8632bf-e7f8-482a-89c7-321cda865e12",
   "metadata": {},
   "outputs": [],
   "source": []
  }
 ],
 "metadata": {
  "kernelspec": {
   "display_name": "Python 3 (ipykernel)",
   "language": "python",
   "name": "python3"
  },
  "language_info": {
   "codemirror_mode": {
    "name": "ipython",
    "version": 3
   },
   "file_extension": ".py",
   "mimetype": "text/x-python",
   "name": "python",
   "nbconvert_exporter": "python",
   "pygments_lexer": "ipython3",
   "version": "3.11.5"
  }
 },
 "nbformat": 4,
 "nbformat_minor": 5
}
